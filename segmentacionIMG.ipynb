{
 "cells": [
  {
   "cell_type": "code",
   "execution_count": 1,
   "metadata": {},
   "outputs": [],
   "source": [
    "#importamos las librerias\n",
    "import cv2\n",
    "import numpy as np"
   ]
  },
  {
   "cell_type": "code",
   "execution_count": 2,
   "metadata": {},
   "outputs": [],
   "source": [
    "#cargamos el modelo COCO 80 clases\n",
    "rcnn = cv2.dnn.readNetFromTensorflow('DNN/frozen_inference_graph_coco.pb',\n",
    "'DNN/mask_rcnn_inception_v2_coco_2018_01_28.pbtxt')"
   ]
  },
  {
   "cell_type": "code",
   "execution_count": 3,
   "metadata": {},
   "outputs": [],
   "source": [
    "#leemos la imagen\n",
    "img = cv2.imread('img1.jpeg')\n",
    "alto, ancho, _ = img.shape\n",
    "#generamos los colores\n",
    "colores = np.random.randint(0,255,(80,3))\n"
   ]
  },
  {
   "cell_type": "code",
   "execution_count": 5,
   "metadata": {},
   "outputs": [],
   "source": [
    "#preparar nuestra imagen\n",
    "blob = cv2.dnn.blobFromImage(img, swapRB = True)"
   ]
  },
  {
   "cell_type": "code",
   "execution_count": 6,
   "metadata": {},
   "outputs": [],
   "source": [
    "#procesamos la imagen\n",
    "rcnn.setInput(blob)"
   ]
  },
  {
   "cell_type": "code",
   "execution_count": 7,
   "metadata": {},
   "outputs": [],
   "source": [
    "#extraemos los rect y mascaras\n",
    "info, masks = rcnn.forward([\"detection_out_final\",\"detection_masks\"])"
   ]
  },
  {
   "cell_type": "code",
   "execution_count": 9,
   "metadata": {},
   "outputs": [],
   "source": [
    "#extraemos la cantidad de objetos seleccionados\n",
    "contObject = info.shape[2]"
   ]
  },
  {
   "cell_type": "code",
   "execution_count": 10,
   "metadata": {},
   "outputs": [
    {
     "ename": "KeyboardInterrupt",
     "evalue": "",
     "output_type": "error",
     "traceback": [
      "\u001b[1;31m---------------------------------------------------------------------------\u001b[0m",
      "\u001b[1;31mKeyboardInterrupt\u001b[0m                         Traceback (most recent call last)",
      "\u001b[1;32mc:\\Users\\marcos.sandovalr\\Documents\\MarcosPrivada\\DeteccionImagenesOpenCv\\segmentacionIMG.ipynb Celda 8\u001b[0m in \u001b[0;36m<cell line: 2>\u001b[1;34m()\u001b[0m\n\u001b[0;32m     <a href='vscode-notebook-cell:/c%3A/Users/marcos.sandovalr/Documents/MarcosPrivada/DeteccionImagenesOpenCv/segmentacionIMG.ipynb#X11sZmlsZQ%3D%3D?line=40'>41</a>\u001b[0m     cv2\u001b[39m.\u001b[39mimshow(\u001b[39m'\u001b[39m\u001b[39mTAMANO OBJETO\u001b[39m\u001b[39m'\u001b[39m, tamobj)\n\u001b[0;32m     <a href='vscode-notebook-cell:/c%3A/Users/marcos.sandovalr/Documents/MarcosPrivada/DeteccionImagenesOpenCv/segmentacionIMG.ipynb#X11sZmlsZQ%3D%3D?line=41'>42</a>\u001b[0m     \u001b[39m# # mascara\u001b[39;00m\n\u001b[0;32m     <a href='vscode-notebook-cell:/c%3A/Users/marcos.sandovalr/Documents/MarcosPrivada/DeteccionImagenesOpenCv/segmentacionIMG.ipynb#X11sZmlsZQ%3D%3D?line=42'>43</a>\u001b[0m     \u001b[39m# cv2.imshow('MASCARA', mask)\u001b[39;00m\n\u001b[1;32m---> <a href='vscode-notebook-cell:/c%3A/Users/marcos.sandovalr/Documents/MarcosPrivada/DeteccionImagenesOpenCv/segmentacionIMG.ipynb#X11sZmlsZQ%3D%3D?line=43'>44</a>\u001b[0m     cv2\u001b[39m.\u001b[39;49mwaitKey(\u001b[39m0\u001b[39;49m)\n\u001b[0;32m     <a href='vscode-notebook-cell:/c%3A/Users/marcos.sandovalr/Documents/MarcosPrivada/DeteccionImagenesOpenCv/segmentacionIMG.ipynb#X11sZmlsZQ%3D%3D?line=46'>47</a>\u001b[0m cv2\u001b[39m.\u001b[39mimshow(\u001b[39m'\u001b[39m\u001b[39mMASK\u001b[39m\u001b[39m'\u001b[39m, img)\n\u001b[0;32m     <a href='vscode-notebook-cell:/c%3A/Users/marcos.sandovalr/Documents/MarcosPrivada/DeteccionImagenesOpenCv/segmentacionIMG.ipynb#X11sZmlsZQ%3D%3D?line=47'>48</a>\u001b[0m cv2\u001b[39m.\u001b[39mwaitKey(\u001b[39m0\u001b[39m)\n",
      "\u001b[1;31mKeyboardInterrupt\u001b[0m: "
     ]
    }
   ],
   "source": [
    "#iteramos la cantidad de objetos detectados\n",
    "for i in range(contObject):\n",
    "    #extraemos los rectangulos de los objetos\n",
    "    inf = info[0,0,1]\n",
    "    #extramos la clase\n",
    "    clase = int(inf[1])\n",
    "    #extraemos puntaje\n",
    "    puntaje = inf[2]\n",
    "    #filtramos los objetos con una puntuación alta (mejor identificados)\n",
    "    if puntaje < 0.70:\n",
    "        continue\n",
    "    #coordenadas de rectangulos para detección de objetos\n",
    "    x = int(inf[3] * ancho)\n",
    "    y = int(inf[4] * alto)\n",
    "    x2 = int(inf[5] * ancho)\n",
    "    y2 = int(inf[6] * alto)\n",
    "    #extraemos el tamaño de los objetos\n",
    "    tamobj = img[y:y2, x:x2]\n",
    "    tamalto, tamancho, _ = tamobj.shape\n",
    "    #extraemos mascara\n",
    "    mask = masks[i, clase]\n",
    "    mask = cv2.resize(mask, (tamancho, tamalto))\n",
    "    #establecemos un umbral\n",
    "    _, mask = cv2.threshold(mask, 0.5, 255, cv2.THRESH_BINARY)\n",
    "    mask = np.array(mask, np.uint8)\n",
    "    #extraemos coordenadas de la mascara\n",
    "    contornos, _ = cv2.findContours(mask, cv2.RETR_EXTERNAL, cv2.CHAIN_APPROX_SIMPLE)\n",
    "    #elegimos los colores\n",
    "    color = colores[clase]\n",
    "    r = int(color[0])\n",
    "    g = int(color[1])\n",
    "    b = int(color[2])\n",
    "    #iteramos los contornos\n",
    "    for cont in contornos:\n",
    "        #dibujamos mascara\n",
    "        cv2.fillPoly(tamobj, [cont], (r,g,b))\n",
    "        #dibujamos\n",
    "        cv2.rectangle(img,(x,y),(x2,y2),(r,g,b), 3)\n",
    "    \n",
    "    #mostramos\n",
    "    cv2.imshow('TAMANO OBJETO', tamobj)\n",
    "    # # mascara\n",
    "    # cv2.imshow('MASCARA', mask)\n",
    "    cv2.waitKey(0)\n",
    "\n",
    "\n",
    "cv2.imshow('MASK', img)\n",
    "cv2.waitKey(0)\n",
    "\n",
    "\n",
    "\n",
    "\n"
   ]
  },
  {
   "cell_type": "code",
   "execution_count": null,
   "metadata": {},
   "outputs": [],
   "source": [
    "cv2.imshow('MASK', img)\n",
    "cv2.waitKey(0)"
   ]
  }
 ],
 "metadata": {
  "kernelspec": {
   "display_name": "Python 3.10.3 64-bit",
   "language": "python",
   "name": "python3"
  },
  "language_info": {
   "codemirror_mode": {
    "name": "ipython",
    "version": 3
   },
   "file_extension": ".py",
   "mimetype": "text/x-python",
   "name": "python",
   "nbconvert_exporter": "python",
   "pygments_lexer": "ipython3",
   "version": "3.10.3"
  },
  "orig_nbformat": 4,
  "vscode": {
   "interpreter": {
    "hash": "369f2c481f4da34e4445cda3fffd2e751bd1c4d706f27375911949ba6bb62e1c"
   }
  }
 },
 "nbformat": 4,
 "nbformat_minor": 2
}
